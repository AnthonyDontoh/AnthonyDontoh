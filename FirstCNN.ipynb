{
  "nbformat": 4,
  "nbformat_minor": 0,
  "metadata": {
    "colab": {
      "provenance": [],
      "authorship_tag": "ABX9TyNWQfgNfQUc/e9kXKrPkd26",
      "include_colab_link": true
    },
    "kernelspec": {
      "name": "python3",
      "display_name": "Python 3"
    },
    "language_info": {
      "name": "python"
    }
  },
  "cells": [
    {
      "cell_type": "markdown",
      "metadata": {
        "id": "view-in-github",
        "colab_type": "text"
      },
      "source": [
        "<a href=\"https://colab.research.google.com/github/AnthonyDontoh/AnthonyDontoh/blob/main/FirstCNN.ipynb\" target=\"_parent\"><img src=\"https://colab.research.google.com/assets/colab-badge.svg\" alt=\"Open In Colab\"/></a>"
      ]
    },
    {
      "cell_type": "code",
      "execution_count": 1,
      "metadata": {
        "id": "Dbz1srOSZGTW"
      },
      "outputs": [],
      "source": [
        "# importing the necessary libraries\n",
        "from tensorflow import keras\n",
        "from tensorflow.keras.models import Sequential\n",
        "from tensorflow.keras.layers import Dense, Conv2D, MaxPooling2D, Flatten\n",
        "from tensorflow.keras.utils import to_categorical"
      ]
    },
    {
      "cell_type": "code",
      "source": [
        "# import data\n",
        "from keras.datasets import mnist\n",
        "\n",
        "# load data\n",
        "(X_train, y_train), (X_test, y_test) = mnist.load_data()\n",
        "\n",
        "# reshape to be [samples][pixels][width][height]\n",
        "X_train = X_train.reshape(X_train.shape[0], 28, 28, 1).astype('float32')\n",
        "X_test = X_test.reshape(X_test.shape[0], 28, 28, 1).astype('float32')"
      ],
      "metadata": {
        "id": "9tqcC-LbZOPT"
      },
      "execution_count": 16,
      "outputs": []
    },
    {
      "cell_type": "code",
      "source": [
        "# Normalizing the data pixel values to be between 0 and 1\n",
        "\n",
        "X_train = X_train / 225 # normalize training data\n",
        "X_test = X_test / 225 # normalize testing data"
      ],
      "metadata": {
        "id": "d4nrRqrCa_iM"
      },
      "execution_count": 17,
      "outputs": []
    },
    {
      "cell_type": "code",
      "source": [
        "# Converting the target variable into binary categories\n",
        "y_train = to_categorical(y_train)\n",
        "y_test = to_categorical(y_test)\n",
        "\n",
        "num_classes = y_test.shape[1] #number of categories\n",
        "\n",
        "# print(num_classes)"
      ],
      "metadata": {
        "id": "CRuQX5sKa_ar"
      },
      "execution_count": 18,
      "outputs": []
    },
    {
      "cell_type": "code",
      "source": [
        "# let us define a function that creates our model. let us start with one set of convolutional and pooling layers\n",
        "def convolutional_model():\n",
        "\n",
        "  # create model\n",
        "  model = Sequential()\n",
        "  model.add(Conv2D(16, (5,5), strides = (1,1), activation = 'relu', input_shape = (28, 28, 1)))\n",
        "  model.add(MaxPooling2D(pool_size=(2,2), strides=(2,2)))\n",
        "\n",
        "  model.add(Flatten())\n",
        "  model.add(Dense(100, activation = 'relu'))\n",
        "  model.add(Dense(num_classes, activation = 'softmax'))\n",
        "\n",
        "  # compile model\n",
        "  model.compile(optimizer = 'adam', loss = 'categorical_crossentropy', metrics =['accuracy'])\n",
        "  return model"
      ],
      "metadata": {
        "id": "KNJHJNQqa_XV"
      },
      "execution_count": 19,
      "outputs": []
    },
    {
      "cell_type": "code",
      "source": [
        "# let us call the function to create the model, and then lets train and evaluate it\n",
        "\n",
        "# build the model\n",
        "model = convolutional_model()\n",
        "\n",
        "# fit the model\n",
        "model.fit(X_train, y_train, validation_data = (X_test, y_test), epochs = 10, batch_size = 200, verbose=2)\n",
        "\n",
        "#evaluate the model\n",
        "scores = model.evaluate(X_test, y_test, verbose = 0)\n",
        "print(\"Accuracy: {} \\n Error: {}\".format(scores[1], 100-scores[1]*100))"
      ],
      "metadata": {
        "colab": {
          "base_uri": "https://localhost:8080/"
        },
        "id": "_pPYwNgca_QP",
        "outputId": "1ac7cec7-317d-4d20-abdf-2e99fc1cad5b"
      },
      "execution_count": 20,
      "outputs": [
        {
          "output_type": "stream",
          "name": "stdout",
          "text": [
            "Epoch 1/10\n",
            "300/300 - 22s - loss: 0.2607 - accuracy: 0.9286 - val_loss: 0.0933 - val_accuracy: 0.9710 - 22s/epoch - 73ms/step\n",
            "Epoch 2/10\n",
            "300/300 - 17s - loss: 0.0770 - accuracy: 0.9774 - val_loss: 0.0621 - val_accuracy: 0.9800 - 17s/epoch - 58ms/step\n",
            "Epoch 3/10\n",
            "300/300 - 19s - loss: 0.0541 - accuracy: 0.9833 - val_loss: 0.0472 - val_accuracy: 0.9836 - 19s/epoch - 63ms/step\n",
            "Epoch 4/10\n",
            "300/300 - 17s - loss: 0.0419 - accuracy: 0.9871 - val_loss: 0.0448 - val_accuracy: 0.9851 - 17s/epoch - 56ms/step\n",
            "Epoch 5/10\n",
            "300/300 - 17s - loss: 0.0346 - accuracy: 0.9893 - val_loss: 0.0420 - val_accuracy: 0.9860 - 17s/epoch - 58ms/step\n",
            "Epoch 6/10\n",
            "300/300 - 18s - loss: 0.0279 - accuracy: 0.9917 - val_loss: 0.0402 - val_accuracy: 0.9863 - 18s/epoch - 61ms/step\n",
            "Epoch 7/10\n",
            "300/300 - 17s - loss: 0.0232 - accuracy: 0.9931 - val_loss: 0.0393 - val_accuracy: 0.9867 - 17s/epoch - 58ms/step\n",
            "Epoch 8/10\n",
            "300/300 - 17s - loss: 0.0200 - accuracy: 0.9938 - val_loss: 0.0375 - val_accuracy: 0.9878 - 17s/epoch - 57ms/step\n",
            "Epoch 9/10\n",
            "300/300 - 19s - loss: 0.0155 - accuracy: 0.9953 - val_loss: 0.0413 - val_accuracy: 0.9854 - 19s/epoch - 64ms/step\n",
            "Epoch 10/10\n",
            "300/300 - 17s - loss: 0.0134 - accuracy: 0.9958 - val_loss: 0.0371 - val_accuracy: 0.9875 - 17s/epoch - 57ms/step\n",
            "Accuracy: 0.987500011920929 \n",
            " Error: 1.2499988079071045\n"
          ]
        }
      ]
    },
    {
      "cell_type": "code",
      "source": [],
      "metadata": {
        "id": "8DGsofbba_FQ"
      },
      "execution_count": null,
      "outputs": []
    },
    {
      "cell_type": "code",
      "source": [],
      "metadata": {
        "id": "V2-31Mrya7Nc"
      },
      "execution_count": null,
      "outputs": []
    }
  ]
}